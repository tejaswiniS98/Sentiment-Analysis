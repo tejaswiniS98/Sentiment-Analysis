{
  "nbformat": 4,
  "nbformat_minor": 0,
  "metadata": {
    "colab": {
      "name": "mobilereview.ipynb",
      "provenance": [],
      "collapsed_sections": []
    },
    "kernelspec": {
      "name": "python3",
      "display_name": "Python 3"
    }
  },
  "cells": [
    {
      "cell_type": "code",
      "metadata": {
        "colab": {
          "base_uri": "https://localhost:8080/",
          "height": 34
        },
        "id": "6v5Ow8ce3qsZ",
        "outputId": "a67f3e97-6228-4a17-dbe1-2ede7019014a"
      },
      "source": [
        "'''Sentiment Analysis of mobile reviews'''\r\n"
      ],
      "execution_count": null,
      "outputs": [
        {
          "output_type": "execute_result",
          "data": {
            "application/vnd.google.colaboratory.intrinsic+json": {
              "type": "string"
            },
            "text/plain": [
              "'Sentiment Analysis of mobile reviews'"
            ]
          },
          "metadata": {
            "tags": []
          },
          "execution_count": 1
        }
      ]
    },
    {
      "cell_type": "code",
      "metadata": {
        "id": "5gncSb3L4bJr"
      },
      "source": [
        "#amazon_unlocked mobile database\r\n",
        "#import important libraries\r\n",
        "import numpy as np  #numerical \r\n",
        "import pandas as pd  #data preprocessing"
      ],
      "execution_count": null,
      "outputs": []
    },
    {
      "cell_type": "code",
      "metadata": {
        "colab": {
          "base_uri": "https://localhost:8080/",
          "height": 197
        },
        "id": "OU1ouOOY4_xT",
        "outputId": "af213059-3c47-42af-ef59-23dbba9ef348"
      },
      "source": [
        "#Load the mobile reviews data\r\n",
        "df = pd.read_csv('/content/Amazon_Unlocked_Mobile.csv')\r\n",
        "df = df.sample(frac=0.1, random_state=10)\r\n",
        "df.head()"
      ],
      "execution_count": null,
      "outputs": [
        {
          "output_type": "execute_result",
          "data": {
            "text/html": [
              "<div>\n",
              "<style scoped>\n",
              "    .dataframe tbody tr th:only-of-type {\n",
              "        vertical-align: middle;\n",
              "    }\n",
              "\n",
              "    .dataframe tbody tr th {\n",
              "        vertical-align: top;\n",
              "    }\n",
              "\n",
              "    .dataframe thead th {\n",
              "        text-align: right;\n",
              "    }\n",
              "</style>\n",
              "<table border=\"1\" class=\"dataframe\">\n",
              "  <thead>\n",
              "    <tr style=\"text-align: right;\">\n",
              "      <th></th>\n",
              "      <th>Product Name</th>\n",
              "      <th>Brand Name</th>\n",
              "      <th>Price</th>\n",
              "      <th>Rating</th>\n",
              "      <th>Reviews</th>\n",
              "      <th>Review Votes</th>\n",
              "    </tr>\n",
              "  </thead>\n",
              "  <tbody>\n",
              "    <tr>\n",
              "      <th>49185</th>\n",
              "      <td>Apple iPhone 5s AT&amp;T Cellphone, 16GB, Silver</td>\n",
              "      <td>Apple</td>\n",
              "      <td>139.95</td>\n",
              "      <td>1.0</td>\n",
              "      <td>The phone I got was highly used, many dinks on...</td>\n",
              "      <td>0.0</td>\n",
              "    </tr>\n",
              "    <tr>\n",
              "      <th>105035</th>\n",
              "      <td>BLU Advance 4.0L Unlocked Smartphone -US GSM -...</td>\n",
              "      <td>BLU</td>\n",
              "      <td>51.99</td>\n",
              "      <td>5.0</td>\n",
              "      <td>No comment</td>\n",
              "      <td>0.0</td>\n",
              "    </tr>\n",
              "    <tr>\n",
              "      <th>150797</th>\n",
              "      <td>BLU Studio C Super Camera -Unlocked Smartphone...</td>\n",
              "      <td>BLU</td>\n",
              "      <td>99.00</td>\n",
              "      <td>5.0</td>\n",
              "      <td>Great phone! second time I've purchased this m...</td>\n",
              "      <td>0.0</td>\n",
              "    </tr>\n",
              "    <tr>\n",
              "      <th>45337</th>\n",
              "      <td>Apple iPhone 5s 32GB (Silver) - Verizon Wireless</td>\n",
              "      <td>Apple</td>\n",
              "      <td>209.00</td>\n",
              "      <td>5.0</td>\n",
              "      <td>Love my phone.</td>\n",
              "      <td>0.0</td>\n",
              "    </tr>\n",
              "    <tr>\n",
              "      <th>35862</th>\n",
              "      <td>Apple iPhone 5c 8GB Unlocked GSM Smartphone - ...</td>\n",
              "      <td>Apple</td>\n",
              "      <td>115.00</td>\n",
              "      <td>5.0</td>\n",
              "      <td>Love da fone</td>\n",
              "      <td>NaN</td>\n",
              "    </tr>\n",
              "  </tbody>\n",
              "</table>\n",
              "</div>"
            ],
            "text/plain": [
              "                                             Product Name  ... Review Votes\n",
              "49185        Apple iPhone 5s AT&T Cellphone, 16GB, Silver  ...          0.0\n",
              "105035  BLU Advance 4.0L Unlocked Smartphone -US GSM -...  ...          0.0\n",
              "150797  BLU Studio C Super Camera -Unlocked Smartphone...  ...          0.0\n",
              "45337    Apple iPhone 5s 32GB (Silver) - Verizon Wireless  ...          0.0\n",
              "35862   Apple iPhone 5c 8GB Unlocked GSM Smartphone - ...  ...          NaN\n",
              "\n",
              "[5 rows x 6 columns]"
            ]
          },
          "metadata": {
            "tags": []
          },
          "execution_count": 8
        }
      ]
    },
    {
      "cell_type": "code",
      "metadata": {
        "colab": {
          "base_uri": "https://localhost:8080/",
          "height": 531
        },
        "id": "GfWQg65V5SFJ",
        "outputId": "7c8fbc1f-14e4-4b99-9de3-1edbc1fdac49"
      },
      "source": [
        "#Drop the missing values.\r\n",
        "df.dropna(inplace=True)\r\n",
        "\r\n",
        "#remove any neutral rating equals to 3.\r\n",
        "df = df[df['Rating']!=3]\r\n",
        "\r\n",
        "#Encode 4 star and 5 star as positively rated 1.\r\n",
        "#Encode 1 star and 2 star as poorely rated 0.\r\n",
        "df['Positively Rated'] = np.where(df['Rating']>3,1,0)\r\n",
        "df.head(10)"
      ],
      "execution_count": null,
      "outputs": [
        {
          "output_type": "execute_result",
          "data": {
            "text/html": [
              "<div>\n",
              "<style scoped>\n",
              "    .dataframe tbody tr th:only-of-type {\n",
              "        vertical-align: middle;\n",
              "    }\n",
              "\n",
              "    .dataframe tbody tr th {\n",
              "        vertical-align: top;\n",
              "    }\n",
              "\n",
              "    .dataframe thead th {\n",
              "        text-align: right;\n",
              "    }\n",
              "</style>\n",
              "<table border=\"1\" class=\"dataframe\">\n",
              "  <thead>\n",
              "    <tr style=\"text-align: right;\">\n",
              "      <th></th>\n",
              "      <th>Product Name</th>\n",
              "      <th>Brand Name</th>\n",
              "      <th>Price</th>\n",
              "      <th>Rating</th>\n",
              "      <th>Reviews</th>\n",
              "      <th>Review Votes</th>\n",
              "      <th>Positively Rated</th>\n",
              "    </tr>\n",
              "  </thead>\n",
              "  <tbody>\n",
              "    <tr>\n",
              "      <th>49185</th>\n",
              "      <td>Apple iPhone 5s AT&amp;T Cellphone, 16GB, Silver</td>\n",
              "      <td>Apple</td>\n",
              "      <td>139.95</td>\n",
              "      <td>1.0</td>\n",
              "      <td>The phone I got was highly used, many dinks on...</td>\n",
              "      <td>0.0</td>\n",
              "      <td>0</td>\n",
              "    </tr>\n",
              "    <tr>\n",
              "      <th>105035</th>\n",
              "      <td>BLU Advance 4.0L Unlocked Smartphone -US GSM -...</td>\n",
              "      <td>BLU</td>\n",
              "      <td>51.99</td>\n",
              "      <td>5.0</td>\n",
              "      <td>No comment</td>\n",
              "      <td>0.0</td>\n",
              "      <td>1</td>\n",
              "    </tr>\n",
              "    <tr>\n",
              "      <th>150797</th>\n",
              "      <td>BLU Studio C Super Camera -Unlocked Smartphone...</td>\n",
              "      <td>BLU</td>\n",
              "      <td>99.00</td>\n",
              "      <td>5.0</td>\n",
              "      <td>Great phone! second time I've purchased this m...</td>\n",
              "      <td>0.0</td>\n",
              "      <td>1</td>\n",
              "    </tr>\n",
              "    <tr>\n",
              "      <th>45337</th>\n",
              "      <td>Apple iPhone 5s 32GB (Silver) - Verizon Wireless</td>\n",
              "      <td>Apple</td>\n",
              "      <td>209.00</td>\n",
              "      <td>5.0</td>\n",
              "      <td>Love my phone.</td>\n",
              "      <td>0.0</td>\n",
              "      <td>1</td>\n",
              "    </tr>\n",
              "    <tr>\n",
              "      <th>168537</th>\n",
              "      <td>CNPGD [U.S. Office Extended Warranty] Smartwat...</td>\n",
              "      <td>CNPGD</td>\n",
              "      <td>49.99</td>\n",
              "      <td>4.0</td>\n",
              "      <td>Good</td>\n",
              "      <td>0.0</td>\n",
              "      <td>1</td>\n",
              "    </tr>\n",
              "    <tr>\n",
              "      <th>23459</th>\n",
              "      <td>Apple iPhone 5, White 16GB (GSM Unlocked)</td>\n",
              "      <td>Apple</td>\n",
              "      <td>225.00</td>\n",
              "      <td>1.0</td>\n",
              "      <td>The phone had a passcode. I took it an Apple s...</td>\n",
              "      <td>0.0</td>\n",
              "      <td>0</td>\n",
              "    </tr>\n",
              "    <tr>\n",
              "      <th>42671</th>\n",
              "      <td>Apple iPhone 5s 32GB (Gold) - AT&amp;T</td>\n",
              "      <td>Apple</td>\n",
              "      <td>54.34</td>\n",
              "      <td>1.0</td>\n",
              "      <td>I requested a factory unlocked iphone. I recei...</td>\n",
              "      <td>0.0</td>\n",
              "      <td>0</td>\n",
              "    </tr>\n",
              "    <tr>\n",
              "      <th>122098</th>\n",
              "      <td>BLU Jenny II T177 Unlocked GSM Dual-SIM Cell P...</td>\n",
              "      <td>BLU</td>\n",
              "      <td>18.87</td>\n",
              "      <td>5.0</td>\n",
              "      <td>Excellent phone... Little, comfortable. Its a ...</td>\n",
              "      <td>0.0</td>\n",
              "      <td>1</td>\n",
              "    </tr>\n",
              "    <tr>\n",
              "      <th>107538</th>\n",
              "      <td>BLU Dash 4.0 D270a Unlocked Dual SIM Phone wit...</td>\n",
              "      <td>CT-Miami LLC</td>\n",
              "      <td>74.50</td>\n",
              "      <td>5.0</td>\n",
              "      <td>Pros:Dual core A5 processor480x800AndroidPRICE...</td>\n",
              "      <td>8.0</td>\n",
              "      <td>1</td>\n",
              "    </tr>\n",
              "    <tr>\n",
              "      <th>156248</th>\n",
              "      <td>BLU Studio XL Android Smartphone - GSM Unlocke...</td>\n",
              "      <td>BLU</td>\n",
              "      <td>99.99</td>\n",
              "      <td>5.0</td>\n",
              "      <td>The phone was more than I expected. Huge scree...</td>\n",
              "      <td>4.0</td>\n",
              "      <td>1</td>\n",
              "    </tr>\n",
              "  </tbody>\n",
              "</table>\n",
              "</div>"
            ],
            "text/plain": [
              "                                             Product Name  ... Positively Rated\n",
              "49185        Apple iPhone 5s AT&T Cellphone, 16GB, Silver  ...                0\n",
              "105035  BLU Advance 4.0L Unlocked Smartphone -US GSM -...  ...                1\n",
              "150797  BLU Studio C Super Camera -Unlocked Smartphone...  ...                1\n",
              "45337    Apple iPhone 5s 32GB (Silver) - Verizon Wireless  ...                1\n",
              "168537  CNPGD [U.S. Office Extended Warranty] Smartwat...  ...                1\n",
              "23459           Apple iPhone 5, White 16GB (GSM Unlocked)  ...                0\n",
              "42671                  Apple iPhone 5s 32GB (Gold) - AT&T  ...                0\n",
              "122098  BLU Jenny II T177 Unlocked GSM Dual-SIM Cell P...  ...                1\n",
              "107538  BLU Dash 4.0 D270a Unlocked Dual SIM Phone wit...  ...                1\n",
              "156248  BLU Studio XL Android Smartphone - GSM Unlocke...  ...                1\n",
              "\n",
              "[10 rows x 7 columns]"
            ]
          },
          "metadata": {
            "tags": []
          },
          "execution_count": 9
        }
      ]
    },
    {
      "cell_type": "code",
      "metadata": {
        "colab": {
          "base_uri": "https://localhost:8080/",
          "height": 674
        },
        "id": "BLgcY3Kt53nD",
        "outputId": "548a6fdc-210c-48ab-b32b-55066d3a5e4e"
      },
      "source": [
        "import matplotlib.pyplot as plt\r\n",
        "%matplotlib inline\r\n",
        "plt.style.use('fivethirtyeight')\r\n",
        "fig,(ax0,ax1) = plt.subplots(nrows=1,\r\n",
        "                            ncols=2,\r\n",
        "                            figsize = (15,10))\r\n",
        "ax0.scatter(df['Rating'],df['Review Votes'])\r\n",
        "ax0.set(title='Rating vs Review Votes',\r\n",
        "       xlabel='Rating',\r\n",
        "       ylabel='Review Votes')\r\n",
        "ax1.plot(df['Rating']==4,df['Rating']==5)\r\n",
        "ax1.set(title='Rating 4 vs Rating 5',\r\n",
        "       xlabel='Rating 4',\r\n",
        "       ylabel='Rating 5');"
      ],
      "execution_count": null,
      "outputs": [
        {
          "output_type": "display_data",
          "data": {
            "image/png": "[encoded data removed]",
            "text/plain": [
              "<Figure size 1080x720 with 2 Axes>"
            ]
          },
          "metadata": {
            "tags": []
          }
        }
      ]
    },
    {
      "cell_type": "code",
      "metadata": {
        "colab": {
          "base_uri": "https://localhost:8080/"
        },
        "id": "60KieL2j6NOg",
        "outputId": "4e3fa703-a3af-4955-b566-27d43ebb6744"
      },
      "source": [
        "# most ratings are positive\r\n",
        "df['Positively Rated'].mean()"
      ],
      "execution_count": null,
      "outputs": [
        {
          "output_type": "execute_result",
          "data": {
            "text/plain": [
              "0.7488322229879777"
            ]
          },
          "metadata": {
            "tags": []
          },
          "execution_count": 11
        }
      ]
    },
    {
      "cell_type": "code",
      "metadata": {
        "colab": {
          "base_uri": "https://localhost:8080/"
        },
        "id": "lsN1DNnY6PL8",
        "outputId": "2e594668-315f-4196-d963-756ffb343ed6"
      },
      "source": [
        "from sklearn.model_selection import train_test_split\r\n",
        "\r\n",
        "X = df['Reviews']\r\n",
        "y = df['Positively Rated']\r\n",
        "#spliting data into training and test set.\r\n",
        "X_train,X_test,y_train,y_test = train_test_split(X,y,random_state=0)\r\n",
        "print('X_train first entry:\\n',X_train.iloc[0])\r\n",
        "print('\\nX_train shape',X_train.shape)"
      ],
      "execution_count": null,
      "outputs": [
        {
          "output_type": "stream",
          "text": [
            "X_train first entry:\n",
            " Very good\n",
            "\n",
            "X_train shape (9794,)\n"
          ],
          "name": "stdout"
        }
      ]
    },
    {
      "cell_type": "code",
      "metadata": {
        "colab": {
          "base_uri": "https://localhost:8080/"
        },
        "id": "NkRec1lw6VPM",
        "outputId": "ddc74468-e665-4fc2-c66e-451ea84488d3"
      },
      "source": [
        "df['Positively Rated'].value_counts()"
      ],
      "execution_count": null,
      "outputs": [
        {
          "output_type": "execute_result",
          "data": {
            "text/plain": [
              "1    9779\n",
              "0    3280\n",
              "Name: Positively Rated, dtype: int64"
            ]
          },
          "metadata": {
            "tags": []
          },
          "execution_count": 13
        }
      ]
    },
    {
      "cell_type": "code",
      "metadata": {
        "colab": {
          "base_uri": "https://localhost:8080/",
          "height": 34
        },
        "id": "_TrQFo4e6d6T",
        "outputId": "824f4322-cd51-4ba6-f64d-603b54305210"
      },
      "source": [
        "'''Count Vectorizer'''"
      ],
      "execution_count": null,
      "outputs": [
        {
          "output_type": "execute_result",
          "data": {
            "application/vnd.google.colaboratory.intrinsic+json": {
              "type": "string"
            },
            "text/plain": [
              "'Count Vectorizer'"
            ]
          },
          "metadata": {
            "tags": []
          },
          "execution_count": 14
        }
      ]
    },
    {
      "cell_type": "code",
      "metadata": {
        "colab": {
          "base_uri": "https://localhost:8080/"
        },
        "id": "XCfr9jAS6jzi",
        "outputId": "5eee6542-3ef4-4e99-8aa0-8a05b186fe82"
      },
      "source": [
        "from sklearn.feature_extraction.text import CountVectorizer\r\n",
        "#fit the countVectorizer to the training data.\r\n",
        "vect = CountVectorizer()\r\n",
        "vect.fit(X_train)\r\n",
        "\r\n",
        "#getting every 2000 vocabulay features.\r\n",
        "vect.get_feature_names()[::2000]"
      ],
      "execution_count": null,
      "outputs": [
        {
          "output_type": "execute_result",
          "data": {
            "text/plain": [
              "['00', 'chagre', 'fantastically', 'lucked', 'reasons', 'tidbit']"
            ]
          },
          "metadata": {
            "tags": []
          },
          "execution_count": 15
        }
      ]
    },
    {
      "cell_type": "code",
      "metadata": {
        "colab": {
          "base_uri": "https://localhost:8080/"
        },
        "id": "x_4hgBDF6qNO",
        "outputId": "a383c3e8-41a3-4974-b321-f49287ce876b"
      },
      "source": [
        "len(vect.get_feature_names())"
      ],
      "execution_count": null,
      "outputs": [
        {
          "output_type": "execute_result",
          "data": {
            "text/plain": [
              "11164"
            ]
          },
          "metadata": {
            "tags": []
          },
          "execution_count": 16
        }
      ]
    },
    {
      "cell_type": "code",
      "metadata": {
        "colab": {
          "base_uri": "https://localhost:8080/"
        },
        "id": "4Md_77WA61O3",
        "outputId": "a5cc55c7-c87b-4a3d-bce4-93389a28d173"
      },
      "source": [
        "#transform the document in the training data to a document term matrix.\r\n",
        "X_train_vectorized = vect.transform(X_train)\r\n",
        "X_train_vectorized"
      ],
      "execution_count": null,
      "outputs": [
        {
          "output_type": "execute_result",
          "data": {
            "text/plain": [
              "<9794x11164 sparse matrix of type '<class 'numpy.int64'>'\n",
              "\twith 229225 stored elements in Compressed Sparse Row format>"
            ]
          },
          "metadata": {
            "tags": []
          },
          "execution_count": 17
        }
      ]
    },
    {
      "cell_type": "code",
      "metadata": {
        "colab": {
          "base_uri": "https://localhost:8080/"
        },
        "id": "bzv0YmFM69XU",
        "outputId": "e6113f31-9ff7-43b3-f661-51925676739c"
      },
      "source": [
        "from sklearn.linear_model import LogisticRegression\r\n",
        "#train the model.\r\n",
        "model = LogisticRegression()\r\n",
        "model.fit(X_train_vectorized,y_train)"
      ],
      "execution_count": null,
      "outputs": [
        {
          "output_type": "stream",
          "text": [
            "/usr/local/lib/python3.6/dist-packages/sklearn/linear_model/_logistic.py:940: ConvergenceWarning: lbfgs failed to converge (status=1):\n",
            "STOP: TOTAL NO. of ITERATIONS REACHED LIMIT.\n",
            "\n",
            "Increase the number of iterations (max_iter) or scale the data as shown in:\n",
            "    https://scikit-learn.org/stable/modules/preprocessing.html\n",
            "Please also refer to the documentation for alternative solver options:\n",
            "    https://scikit-learn.org/stable/modules/linear_model.html#logistic-regression\n",
            "  extra_warning_msg=_LOGISTIC_SOLVER_CONVERGENCE_MSG)\n"
          ],
          "name": "stderr"
        },
        {
          "output_type": "execute_result",
          "data": {
            "text/plain": [
              "LogisticRegression(C=1.0, class_weight=None, dual=False, fit_intercept=True,\n",
              "                   intercept_scaling=1, l1_ratio=None, max_iter=100,\n",
              "                   multi_class='auto', n_jobs=None, penalty='l2',\n",
              "                   random_state=None, solver='lbfgs', tol=0.0001, verbose=0,\n",
              "                   warm_start=False)"
            ]
          },
          "metadata": {
            "tags": []
          },
          "execution_count": 18
        }
      ]
    },
    {
      "cell_type": "code",
      "metadata": {
        "colab": {
          "base_uri": "https://localhost:8080/"
        },
        "id": "eU68fAS77JEp",
        "outputId": "598cf418-ab7f-4210-f8b1-94a1e5bb26c1"
      },
      "source": [
        "from sklearn.metrics import roc_auc_score,roc_curve\r\n",
        "\r\n",
        "#predict the transform test document.\r\n",
        "predictions = model.predict(vect.transform(X_test))\r\n",
        "print('AUC: ',roc_auc_score(y_test,predictions))"
      ],
      "execution_count": null,
      "outputs": [
        {
          "output_type": "stream",
          "text": [
            "AUC:  0.9053858568561657\n"
          ],
          "name": "stdout"
        }
      ]
    },
    {
      "cell_type": "code",
      "metadata": {
        "colab": {
          "base_uri": "https://localhost:8080/"
        },
        "id": "btaHKYzP7LWa",
        "outputId": "b51a2c09-3d61-4565-c066-55d86def533f"
      },
      "source": [
        "#get the feature names as numpy array.\r\n",
        "feature_names = np.array(vect.get_feature_names())\r\n",
        "\r\n",
        "#sort the coffecient from the model.\r\n",
        "sorted_coef_index = model.coef_[0].argsort()\r\n",
        "\r\n",
        "'''Find the 10 smallest and 10 largest coefficients.\r\n",
        " The 10 largest coefficients are being indexed using [:-11:-1] \r\n",
        " so the list returned is in order of largest to smallest.'''\r\n",
        "\r\n",
        "print('Smallest Coefficient(Negative reviews): \\n{}\\n'.format(feature_names[sorted_coef_index[:10]]))\r\n",
        "print('Largest Coeffiecient(Positive reviews): \\n{}'.format(feature_names[sorted_coef_index[:-11:-1]]))"
      ],
      "execution_count": null,
      "outputs": [
        {
          "output_type": "stream",
          "text": [
            "Smallest Coefficient(Negative reviews): \n",
            "['garbage' 'worst' 'not' 'poor' 'stopped' 'return' 'volume' 'slow'\n",
            " 'disappointed' 'died']\n",
            "\n",
            "Largest Coeffiecient(Positive reviews): \n",
            "['excellent' 'excelente' 'perfect' 'love' 'amazing' 'excelent' 'awesome'\n",
            " 'great' 'loves' 'loved']\n"
          ],
          "name": "stdout"
        }
      ]
    },
    {
      "cell_type": "code",
      "metadata": {
        "colab": {
          "base_uri": "https://localhost:8080/",
          "height": 34
        },
        "id": "MuOMm5cU7TDf",
        "outputId": "30557b7a-fcad-4e23-b7b3-0d3aa39e4978"
      },
      "source": [
        "'''TFIDF(Term Frequency-Inverse Document Frequency)'''"
      ],
      "execution_count": null,
      "outputs": [
        {
          "output_type": "execute_result",
          "data": {
            "application/vnd.google.colaboratory.intrinsic+json": {
              "type": "string"
            },
            "text/plain": [
              "'TFIDF(Term Frequency-Inverse Document Frequency)'"
            ]
          },
          "metadata": {
            "tags": []
          },
          "execution_count": 22
        }
      ]
    },
    {
      "cell_type": "code",
      "metadata": {
        "colab": {
          "base_uri": "https://localhost:8080/"
        },
        "id": "IDUPpUW27aR_",
        "outputId": "ef626e18-7541-46ef-bea7-5cb1b18de8bc"
      },
      "source": [
        "from sklearn.feature_extraction.text import TfidfVectorizer\r\n",
        "\r\n",
        "# Fit the TfidfVectorizer to the training data specifiying a minimum document frequency of 5\r\n",
        "vect = TfidfVectorizer(min_df=5).fit(X_train)\r\n",
        "len(vect.get_feature_names())"
      ],
      "execution_count": null,
      "outputs": [
        {
          "output_type": "execute_result",
          "data": {
            "text/plain": [
              "3224"
            ]
          },
          "metadata": {
            "tags": []
          },
          "execution_count": 23
        }
      ]
    },
    {
      "cell_type": "code",
      "metadata": {
        "colab": {
          "base_uri": "https://localhost:8080/"
        },
        "id": "dmqf4J4O7jw9",
        "outputId": "e292a1f6-bcd1-4dff-83a9-dce385eca6de"
      },
      "source": [
        "X_train_vectorized = vect.transform(X_train)\r\n",
        "\r\n",
        "model = LogisticRegression()\r\n",
        "model.fit(X_train_vectorized, y_train)\r\n",
        "\r\n",
        "predictions = model.predict(vect.transform(X_test))\r\n",
        "\r\n",
        "print('AUC: ', roc_auc_score(y_test, predictions))"
      ],
      "execution_count": null,
      "outputs": [
        {
          "output_type": "stream",
          "text": [
            "AUC:  0.8817489651762592\n"
          ],
          "name": "stdout"
        }
      ]
    },
    {
      "cell_type": "code",
      "metadata": {
        "colab": {
          "base_uri": "https://localhost:8080/"
        },
        "id": "F98GA8Sb7uAa",
        "outputId": "579fe8f7-e68e-4c72-faf2-ac7d875e4774"
      },
      "source": [
        "feature_names = np.array(vect.get_feature_names())\r\n",
        "\r\n",
        "sorted_tfidf_index = X_train_vectorized.max(0).toarray()[0].argsort()\r\n",
        "\r\n",
        "print('Smallest tfidf:\\n{}\\n'.format(feature_names[sorted_tfidf_index[:10]]))\r\n",
        "print('Largest tfidf: \\n{}'.format(feature_names[sorted_tfidf_index[:-11:-1]]))"
      ],
      "execution_count": null,
      "outputs": [
        {
          "output_type": "stream",
          "text": [
            "Smallest tfidf:\n",
            "['advantage' 'harder' 'enjoyable' 'usability' 'picky' 'struck'\n",
            " 'underneath' 'human' 'downgrade' 'direction']\n",
            "\n",
            "Largest tfidf: \n",
            "['fantastic' 'recommended' 'great' 'fine' 'iphone' 'superb' 'super' 'very'\n",
            " 'disappointing' 'good']\n"
          ],
          "name": "stdout"
        }
      ]
    },
    {
      "cell_type": "code",
      "metadata": {
        "colab": {
          "base_uri": "https://localhost:8080/"
        },
        "id": "tr38_o8i74F1",
        "outputId": "b44d52ff-256d-4142-d3bd-4defa06c587f"
      },
      "source": [
        "sorted_coef_index = model.coef_[0].argsort()\r\n",
        "\r\n",
        "print('Smallest Coefs:\\n{}\\n'.format(feature_names[sorted_coef_index[:10]]))\r\n",
        "print('Largest Coefs: \\n{}'.format(feature_names[sorted_coef_index[:-11:-1]]))"
      ],
      "execution_count": null,
      "outputs": [
        {
          "output_type": "stream",
          "text": [
            "Smallest Coefs:\n",
            "['not' 'return' 'disappointed' 'bad' 'stopped' 'worst' 'back' 'slow'\n",
            " 'work' 'waste']\n",
            "\n",
            "Largest Coefs: \n",
            "['great' 'love' 'excellent' 'perfect' 'good' 'excelente' 'amazing'\n",
            " 'awesome' 'nice' 'best']\n"
          ],
          "name": "stdout"
        }
      ]
    },
    {
      "cell_type": "code",
      "metadata": {
        "colab": {
          "base_uri": "https://localhost:8080/"
        },
        "id": "775DaZmi8Bpo",
        "outputId": "cd677dd5-3a67-47e4-8086-2c004e1a4933"
      },
      "source": [
        "# These reviews are treated the same by our current model\r\n",
        "print(model.predict(vect.transform(['not an issue, phone is working',\r\n",
        "                                    'an issue, phone is not working'])))"
      ],
      "execution_count": null,
      "outputs": [
        {
          "output_type": "stream",
          "text": [
            "[0 0]\n"
          ],
          "name": "stdout"
        }
      ]
    },
    {
      "cell_type": "code",
      "metadata": {
        "colab": {
          "base_uri": "https://localhost:8080/",
          "height": 34
        },
        "id": "gbWD7kLD8L9u",
        "outputId": "4d9634db-a55a-4171-dbf4-55a501521e55"
      },
      "source": [
        "'''N-gram'''"
      ],
      "execution_count": null,
      "outputs": [
        {
          "output_type": "execute_result",
          "data": {
            "application/vnd.google.colaboratory.intrinsic+json": {
              "type": "string"
            },
            "text/plain": [
              "'N-gram'"
            ]
          },
          "metadata": {
            "tags": []
          },
          "execution_count": 28
        }
      ]
    },
    {
      "cell_type": "code",
      "metadata": {
        "colab": {
          "base_uri": "https://localhost:8080/"
        },
        "id": "WtCYC8Pg8Ppx",
        "outputId": "2c3275a0-9d7f-49a8-d20c-eedd631e25a0"
      },
      "source": [
        "# Fit the CountVectorizer to the training data specifiying a minimum \r\n",
        "# document frequency of 5 and extracting 1-grams and 2-grams\r\n",
        "vect = CountVectorizer(min_df=5, ngram_range=(1,2)).fit(X_train)\r\n",
        "\r\n",
        "X_train_vectorized = vect.transform(X_train)\r\n",
        "\r\n",
        "len(vect.get_feature_names())"
      ],
      "execution_count": null,
      "outputs": [
        {
          "output_type": "execute_result",
          "data": {
            "text/plain": [
              "12661"
            ]
          },
          "metadata": {
            "tags": []
          },
          "execution_count": 29
        }
      ]
    },
    {
      "cell_type": "code",
      "metadata": {
        "colab": {
          "base_uri": "https://localhost:8080/"
        },
        "id": "GVbUuBqH8ZUS",
        "outputId": "429f5e55-3250-4ab2-8009-2a69e84feead"
      },
      "source": [
        "model = LogisticRegression()\r\n",
        "model.fit(X_train_vectorized, y_train)\r\n",
        "\r\n",
        "predictions = model.predict(vect.transform(X_test))\r\n",
        "\r\n",
        "print('AUC: ', roc_auc_score(y_test, predictions))"
      ],
      "execution_count": null,
      "outputs": [
        {
          "output_type": "stream",
          "text": [
            "/usr/local/lib/python3.6/dist-packages/sklearn/linear_model/_logistic.py:940: ConvergenceWarning: lbfgs failed to converge (status=1):\n",
            "STOP: TOTAL NO. of ITERATIONS REACHED LIMIT.\n",
            "\n",
            "Increase the number of iterations (max_iter) or scale the data as shown in:\n",
            "    https://scikit-learn.org/stable/modules/preprocessing.html\n",
            "Please also refer to the documentation for alternative solver options:\n",
            "    https://scikit-learn.org/stable/modules/linear_model.html#logistic-regression\n",
            "  extra_warning_msg=_LOGISTIC_SOLVER_CONVERGENCE_MSG)\n"
          ],
          "name": "stderr"
        },
        {
          "output_type": "stream",
          "text": [
            "AUC:  0.9033325394408787\n"
          ],
          "name": "stdout"
        }
      ]
    },
    {
      "cell_type": "code",
      "metadata": {
        "colab": {
          "base_uri": "https://localhost:8080/"
        },
        "id": "AJrAAFGp8m24",
        "outputId": "94759cd8-ce7a-4cd9-eb32-d4b896326b79"
      },
      "source": [
        "feature_names = np.array(vect.get_feature_names())\r\n",
        "\r\n",
        "sorted_coef_index = model.coef_[0].argsort()\r\n",
        "\r\n",
        "print('Smallest Coefs:\\n{}\\n'.format(feature_names[sorted_coef_index[:10]]))\r\n",
        "print('Largest Coefs: \\n{}'.format(feature_names[sorted_coef_index[:-11:-1]]))"
      ],
      "execution_count": null,
      "outputs": [
        {
          "output_type": "stream",
          "text": [
            "Smallest Coefs:\n",
            "['not' 'no good' 'bad' 'garbage' 'junk' 'slow' 'horrible' 'stopped' 'poor'\n",
            " 'disappointed']\n",
            "\n",
            "Largest Coefs: \n",
            "['excellent' 'excelente' 'perfect' 'great' 'excelent' 'awesome' 'amazing'\n",
            " 'love' 'not bad' 'no problems']\n"
          ],
          "name": "stdout"
        }
      ]
    },
    {
      "cell_type": "code",
      "metadata": {
        "colab": {
          "base_uri": "https://localhost:8080/"
        },
        "id": "z8-oGXEs8prY",
        "outputId": "ed737005-bfe2-41ac-d645-c2374e8055d2"
      },
      "source": [
        "# These reviews are now correctly identified\r\n",
        "print(model.predict(vect.transform(['not an issue, phone is working',\r\n",
        "                                    'an issue, phone is not working'])))"
      ],
      "execution_count": null,
      "outputs": [
        {
          "output_type": "stream",
          "text": [
            "[0 0]\n"
          ],
          "name": "stdout"
        }
      ]
    },
    {
      "cell_type": "code",
      "metadata": {
        "colab": {
          "base_uri": "https://localhost:8080/"
        },
        "id": "pMwBeXAy85l-",
        "outputId": "685d6042-e15c-4eb9-b33b-8b058a4e613c"
      },
      "source": [
        "print(model.predict(vect.transform(['best mobile ever',\r\n",
        "                                    'but camera is not too good'])))"
      ],
      "execution_count": null,
      "outputs": [
        {
          "output_type": "stream",
          "text": [
            "[1 1]\n"
          ],
          "name": "stdout"
        }
      ]
    }
  ]
}